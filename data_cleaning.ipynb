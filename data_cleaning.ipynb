{
 "cells": [
  {
   "cell_type": "code",
   "execution_count": 1,
   "metadata": {
    "collapsed": true
   },
   "outputs": [],
   "source": [
    "import pandas as pd\n",
    "import numpy as np"
   ]
  },
  {
   "cell_type": "code",
   "execution_count": 2,
   "metadata": {
    "collapsed": false
   },
   "outputs": [
    {
     "data": {
      "text/plain": [
       "u'/Users/Bradley/Documents/Programming/Fishbit/data_exploration_python'"
      ]
     },
     "execution_count": 2,
     "metadata": {},
     "output_type": "execute_result"
    }
   ],
   "source": [
    "pwd"
   ]
  },
  {
   "cell_type": "code",
   "execution_count": 3,
   "metadata": {
    "collapsed": false
   },
   "outputs": [
    {
     "name": "stdout",
     "output_type": "stream",
     "text": [
      "Untitled.ipynb  \u001b[34mreadings\u001b[m\u001b[m/\r\n"
     ]
    }
   ],
   "source": [
    "ls"
   ]
  },
  {
   "cell_type": "code",
   "execution_count": 4,
   "metadata": {
    "collapsed": false
   },
   "outputs": [
    {
     "ename": "SyntaxError",
     "evalue": "invalid syntax (<ipython-input-4-72b4af53a032>, line 1)",
     "output_type": "error",
     "traceback": [
      "\u001b[0;36m  File \u001b[0;32m\"<ipython-input-4-72b4af53a032>\"\u001b[0;36m, line \u001b[0;32m1\u001b[0m\n\u001b[0;31m    cd readings/\u001b[0m\n\u001b[0m              ^\u001b[0m\n\u001b[0;31mSyntaxError\u001b[0m\u001b[0;31m:\u001b[0m invalid syntax\n"
     ]
    }
   ],
   "source": [
    "cd readings/\n",
    "ls"
   ]
  },
  {
   "cell_type": "code",
   "execution_count": 5,
   "metadata": {
    "collapsed": false
   },
   "outputs": [
    {
     "name": "stdout",
     "output_type": "stream",
     "text": [
      "/Users/Bradley/Documents/Programming/Fishbit/data_exploration_python/readings\n"
     ]
    }
   ],
   "source": [
    "cd readings/"
   ]
  },
  {
   "cell_type": "code",
   "execution_count": 6,
   "metadata": {
    "collapsed": false
   },
   "outputs": [
    {
     "name": "stdout",
     "output_type": "stream",
     "text": [
      "26ecc3ee-b05a-46ee-86ad-9c5d0f39a8ae_combined_readings.csv\r\n",
      "26ecc3ee-b05a-46ee-86ad-9c5d0f39a8ae_individual_readings.csv\r\n",
      "8671e356-4aaa-4c1c-a3cf-208843bdd9bf_combined_readings.csv\r\n",
      "8671e356-4aaa-4c1c-a3cf-208843bdd9bf_individual_readings.csv\r\n"
     ]
    }
   ],
   "source": [
    "ls"
   ]
  },
  {
   "cell_type": "code",
   "execution_count": 7,
   "metadata": {
    "collapsed": false
   },
   "outputs": [
    {
     "data": {
      "text/plain": [
       "u'/Users/Bradley/Documents/Programming/Fishbit/data_exploration_python/readings'"
      ]
     },
     "execution_count": 7,
     "metadata": {},
     "output_type": "execute_result"
    }
   ],
   "source": [
    "pwd"
   ]
  },
  {
   "cell_type": "code",
   "execution_count": 8,
   "metadata": {
    "collapsed": false
   },
   "outputs": [
    {
     "name": "stdout",
     "output_type": "stream",
     "text": [
      "/Users/Bradley/Documents/Programming/Fishbit/data_exploration_python\n"
     ]
    }
   ],
   "source": [
    "cd .."
   ]
  },
  {
   "cell_type": "code",
   "execution_count": 9,
   "metadata": {
    "collapsed": false
   },
   "outputs": [
    {
     "name": "stdout",
     "output_type": "stream",
     "text": [
      "Untitled.ipynb  \u001b[34mreadings\u001b[m\u001b[m/\r\n"
     ]
    }
   ],
   "source": [
    "ls"
   ]
  },
  {
   "cell_type": "code",
   "execution_count": 12,
   "metadata": {
    "collapsed": true
   },
   "outputs": [],
   "source": [
    "df1 = pd.read_csv('readings/26ecc3ee-b05a-46ee-86ad-9c5d0f39a8ae_combined_readings.csv')"
   ]
  },
  {
   "cell_type": "code",
   "execution_count": 13,
   "metadata": {
    "collapsed": false
   },
   "outputs": [
    {
     "data": {
      "text/html": [
       "<div>\n",
       "<table border=\"1\" class=\"dataframe\">\n",
       "  <thead>\n",
       "    <tr style=\"text-align: right;\">\n",
       "      <th></th>\n",
       "      <th>id</th>\n",
       "      <th>readings_string</th>\n",
       "      <th>device_id</th>\n",
       "      <th>timestamp</th>\n",
       "      <th>created_at</th>\n",
       "      <th>updated_at</th>\n",
       "    </tr>\n",
       "  </thead>\n",
       "  <tbody>\n",
       "    <tr>\n",
       "      <th>0</th>\n",
       "      <td>8acbf064-7dee-4e4b-854d-314620957d8b</td>\n",
       "      <td>ph:14.00000,ec:9.76400,tds:5.26800,pss:0.00000...</td>\n",
       "      <td>30003a001247343330343136</td>\n",
       "      <td>2016-02-17 20:48:29.128000</td>\n",
       "      <td>2016-02-17 20:48:29.173268</td>\n",
       "      <td>2016-02-17 20:48:29.173268</td>\n",
       "    </tr>\n",
       "    <tr>\n",
       "      <th>1</th>\n",
       "      <td>363eb110-cbed-4db0-ba58-610cefef817c</td>\n",
       "      <td>ph:8.08270,ec:55345.99609,tds:29886.83594,pss:...</td>\n",
       "      <td>30003a001247343330343136</td>\n",
       "      <td>2016-02-18 03:47:29.718000</td>\n",
       "      <td>2016-02-18 03:47:29.745948</td>\n",
       "      <td>2016-02-18 03:47:29.745948</td>\n",
       "    </tr>\n",
       "    <tr>\n",
       "      <th>2</th>\n",
       "      <td>4d89f4eb-c29d-42da-8ce7-6a7f518859b7</td>\n",
       "      <td>ph:7.95320,ec:55353.71094,tds:29891.00391,pss:...</td>\n",
       "      <td>30003a001247343330343136</td>\n",
       "      <td>2016-02-18 07:29:43.258000</td>\n",
       "      <td>2016-02-18 07:29:43.293699</td>\n",
       "      <td>2016-02-18 07:29:43.293699</td>\n",
       "    </tr>\n",
       "    <tr>\n",
       "      <th>3</th>\n",
       "      <td>268da6f8-34bb-4498-9baf-79d6250b7c3b</td>\n",
       "      <td>ph:7.92460,ec:55237.87891,tds:29828.45313,pss:...</td>\n",
       "      <td>30003a001247343330343136</td>\n",
       "      <td>2016-02-18 08:34:56.506000</td>\n",
       "      <td>2016-02-18 08:34:56.553440</td>\n",
       "      <td>2016-02-18 08:34:56.553440</td>\n",
       "    </tr>\n",
       "    <tr>\n",
       "      <th>4</th>\n",
       "      <td>656dadc8-a175-42e5-ad85-b6ac9f62a07c</td>\n",
       "      <td>ph:8.06680,ec:55366.10156,tds:29897.69336,pss:...</td>\n",
       "      <td>30003a001247343330343136</td>\n",
       "      <td>2016-02-18 04:39:01.644000</td>\n",
       "      <td>2016-02-18 04:39:01.747155</td>\n",
       "      <td>2016-02-18 04:39:01.747155</td>\n",
       "    </tr>\n",
       "  </tbody>\n",
       "</table>\n",
       "</div>"
      ],
      "text/plain": [
       "                                     id  \\\n",
       "0  8acbf064-7dee-4e4b-854d-314620957d8b   \n",
       "1  363eb110-cbed-4db0-ba58-610cefef817c   \n",
       "2  4d89f4eb-c29d-42da-8ce7-6a7f518859b7   \n",
       "3  268da6f8-34bb-4498-9baf-79d6250b7c3b   \n",
       "4  656dadc8-a175-42e5-ad85-b6ac9f62a07c   \n",
       "\n",
       "                                     readings_string  \\\n",
       "0  ph:14.00000,ec:9.76400,tds:5.26800,pss:0.00000...   \n",
       "1  ph:8.08270,ec:55345.99609,tds:29886.83594,pss:...   \n",
       "2  ph:7.95320,ec:55353.71094,tds:29891.00391,pss:...   \n",
       "3  ph:7.92460,ec:55237.87891,tds:29828.45313,pss:...   \n",
       "4  ph:8.06680,ec:55366.10156,tds:29897.69336,pss:...   \n",
       "\n",
       "                  device_id                   timestamp  \\\n",
       "0  30003a001247343330343136  2016-02-17 20:48:29.128000   \n",
       "1  30003a001247343330343136  2016-02-18 03:47:29.718000   \n",
       "2  30003a001247343330343136  2016-02-18 07:29:43.258000   \n",
       "3  30003a001247343330343136  2016-02-18 08:34:56.506000   \n",
       "4  30003a001247343330343136  2016-02-18 04:39:01.644000   \n",
       "\n",
       "                   created_at                  updated_at  \n",
       "0  2016-02-17 20:48:29.173268  2016-02-17 20:48:29.173268  \n",
       "1  2016-02-18 03:47:29.745948  2016-02-18 03:47:29.745948  \n",
       "2  2016-02-18 07:29:43.293699  2016-02-18 07:29:43.293699  \n",
       "3  2016-02-18 08:34:56.553440  2016-02-18 08:34:56.553440  \n",
       "4  2016-02-18 04:39:01.747155  2016-02-18 04:39:01.747155  "
      ]
     },
     "execution_count": 13,
     "metadata": {},
     "output_type": "execute_result"
    }
   ],
   "source": [
    "df1.head()"
   ]
  },
  {
   "cell_type": "code",
   "execution_count": 14,
   "metadata": {
    "collapsed": true
   },
   "outputs": [],
   "source": [
    "df2 = pd.read_csv('readings/26ecc3ee-b05a-46ee-86ad-9c5d0f39a8ae_individual_readings.csv')"
   ]
  },
  {
   "cell_type": "code",
   "execution_count": 16,
   "metadata": {
    "collapsed": false
   },
   "outputs": [
    {
     "data": {
      "text/html": [
       "<div>\n",
       "<table border=\"1\" class=\"dataframe\">\n",
       "  <thead>\n",
       "    <tr style=\"text-align: right;\">\n",
       "      <th></th>\n",
       "      <th>timestamp</th>\n",
       "      <th>name</th>\n",
       "      <th>value</th>\n",
       "      <th>min</th>\n",
       "      <th>max</th>\n",
       "    </tr>\n",
       "  </thead>\n",
       "  <tbody>\n",
       "    <tr>\n",
       "      <th>0</th>\n",
       "      <td>2015-12-09 05:01:57.118000</td>\n",
       "      <td>pH</td>\n",
       "      <td>8.1600</td>\n",
       "      <td>8.100</td>\n",
       "      <td>8.400</td>\n",
       "    </tr>\n",
       "    <tr>\n",
       "      <th>1</th>\n",
       "      <td>2015-12-09 05:01:57.118000</td>\n",
       "      <td>Salinity</td>\n",
       "      <td>1.0317</td>\n",
       "      <td>1.023</td>\n",
       "      <td>1.027</td>\n",
       "    </tr>\n",
       "    <tr>\n",
       "      <th>2</th>\n",
       "      <td>2015-12-09 05:01:57.118000</td>\n",
       "      <td>Temperature</td>\n",
       "      <td>76.7800</td>\n",
       "      <td>72.000</td>\n",
       "      <td>78.000</td>\n",
       "    </tr>\n",
       "    <tr>\n",
       "      <th>3</th>\n",
       "      <td>2015-12-09 06:06:57.323000</td>\n",
       "      <td>pH</td>\n",
       "      <td>8.1200</td>\n",
       "      <td>8.100</td>\n",
       "      <td>8.400</td>\n",
       "    </tr>\n",
       "    <tr>\n",
       "      <th>4</th>\n",
       "      <td>2015-12-09 06:06:57.323000</td>\n",
       "      <td>Salinity</td>\n",
       "      <td>1.0317</td>\n",
       "      <td>1.023</td>\n",
       "      <td>1.027</td>\n",
       "    </tr>\n",
       "    <tr>\n",
       "      <th>5</th>\n",
       "      <td>2015-12-09 06:06:57.323000</td>\n",
       "      <td>Temperature</td>\n",
       "      <td>76.6500</td>\n",
       "      <td>72.000</td>\n",
       "      <td>78.000</td>\n",
       "    </tr>\n",
       "    <tr>\n",
       "      <th>6</th>\n",
       "      <td>2015-12-09 02:46:56.856000</td>\n",
       "      <td>pH</td>\n",
       "      <td>8.1900</td>\n",
       "      <td>8.100</td>\n",
       "      <td>8.400</td>\n",
       "    </tr>\n",
       "    <tr>\n",
       "      <th>7</th>\n",
       "      <td>2015-12-09 02:46:56.856000</td>\n",
       "      <td>Salinity</td>\n",
       "      <td>1.0313</td>\n",
       "      <td>1.023</td>\n",
       "      <td>1.027</td>\n",
       "    </tr>\n",
       "    <tr>\n",
       "      <th>8</th>\n",
       "      <td>2015-12-09 02:46:56.856000</td>\n",
       "      <td>Temperature</td>\n",
       "      <td>76.6600</td>\n",
       "      <td>72.000</td>\n",
       "      <td>78.000</td>\n",
       "    </tr>\n",
       "    <tr>\n",
       "      <th>9</th>\n",
       "      <td>2015-12-09 02:56:56.811000</td>\n",
       "      <td>pH</td>\n",
       "      <td>8.1900</td>\n",
       "      <td>8.100</td>\n",
       "      <td>8.400</td>\n",
       "    </tr>\n",
       "    <tr>\n",
       "      <th>10</th>\n",
       "      <td>2015-12-09 02:56:56.811000</td>\n",
       "      <td>Salinity</td>\n",
       "      <td>1.0317</td>\n",
       "      <td>1.023</td>\n",
       "      <td>1.027</td>\n",
       "    </tr>\n",
       "    <tr>\n",
       "      <th>11</th>\n",
       "      <td>2015-12-09 02:56:56.811000</td>\n",
       "      <td>Temperature</td>\n",
       "      <td>76.7800</td>\n",
       "      <td>72.000</td>\n",
       "      <td>78.000</td>\n",
       "    </tr>\n",
       "    <tr>\n",
       "      <th>12</th>\n",
       "      <td>2015-12-09 06:26:57.355000</td>\n",
       "      <td>pH</td>\n",
       "      <td>8.1200</td>\n",
       "      <td>8.100</td>\n",
       "      <td>8.400</td>\n",
       "    </tr>\n",
       "    <tr>\n",
       "      <th>13</th>\n",
       "      <td>2015-12-09 06:26:57.355000</td>\n",
       "      <td>Salinity</td>\n",
       "      <td>1.0317</td>\n",
       "      <td>1.023</td>\n",
       "      <td>1.027</td>\n",
       "    </tr>\n",
       "    <tr>\n",
       "      <th>14</th>\n",
       "      <td>2015-12-09 06:26:57.355000</td>\n",
       "      <td>Temperature</td>\n",
       "      <td>76.6600</td>\n",
       "      <td>72.000</td>\n",
       "      <td>78.000</td>\n",
       "    </tr>\n",
       "    <tr>\n",
       "      <th>15</th>\n",
       "      <td>2015-12-09 03:31:56.965000</td>\n",
       "      <td>pH</td>\n",
       "      <td>8.1900</td>\n",
       "      <td>8.100</td>\n",
       "      <td>8.400</td>\n",
       "    </tr>\n",
       "    <tr>\n",
       "      <th>16</th>\n",
       "      <td>2015-12-09 03:31:56.965000</td>\n",
       "      <td>Salinity</td>\n",
       "      <td>1.0317</td>\n",
       "      <td>1.023</td>\n",
       "      <td>1.027</td>\n",
       "    </tr>\n",
       "    <tr>\n",
       "      <th>17</th>\n",
       "      <td>2015-12-09 03:31:56.965000</td>\n",
       "      <td>Temperature</td>\n",
       "      <td>76.8900</td>\n",
       "      <td>72.000</td>\n",
       "      <td>78.000</td>\n",
       "    </tr>\n",
       "    <tr>\n",
       "      <th>18</th>\n",
       "      <td>2015-12-09 04:06:57.055000</td>\n",
       "      <td>pH</td>\n",
       "      <td>8.1800</td>\n",
       "      <td>8.100</td>\n",
       "      <td>8.400</td>\n",
       "    </tr>\n",
       "    <tr>\n",
       "      <th>19</th>\n",
       "      <td>2015-12-09 04:06:57.055000</td>\n",
       "      <td>Salinity</td>\n",
       "      <td>1.0317</td>\n",
       "      <td>1.023</td>\n",
       "      <td>1.027</td>\n",
       "    </tr>\n",
       "  </tbody>\n",
       "</table>\n",
       "</div>"
      ],
      "text/plain": [
       "                     timestamp         name    value     min     max\n",
       "0   2015-12-09 05:01:57.118000           pH   8.1600   8.100   8.400\n",
       "1   2015-12-09 05:01:57.118000     Salinity   1.0317   1.023   1.027\n",
       "2   2015-12-09 05:01:57.118000  Temperature  76.7800  72.000  78.000\n",
       "3   2015-12-09 06:06:57.323000           pH   8.1200   8.100   8.400\n",
       "4   2015-12-09 06:06:57.323000     Salinity   1.0317   1.023   1.027\n",
       "5   2015-12-09 06:06:57.323000  Temperature  76.6500  72.000  78.000\n",
       "6   2015-12-09 02:46:56.856000           pH   8.1900   8.100   8.400\n",
       "7   2015-12-09 02:46:56.856000     Salinity   1.0313   1.023   1.027\n",
       "8   2015-12-09 02:46:56.856000  Temperature  76.6600  72.000  78.000\n",
       "9   2015-12-09 02:56:56.811000           pH   8.1900   8.100   8.400\n",
       "10  2015-12-09 02:56:56.811000     Salinity   1.0317   1.023   1.027\n",
       "11  2015-12-09 02:56:56.811000  Temperature  76.7800  72.000  78.000\n",
       "12  2015-12-09 06:26:57.355000           pH   8.1200   8.100   8.400\n",
       "13  2015-12-09 06:26:57.355000     Salinity   1.0317   1.023   1.027\n",
       "14  2015-12-09 06:26:57.355000  Temperature  76.6600  72.000  78.000\n",
       "15  2015-12-09 03:31:56.965000           pH   8.1900   8.100   8.400\n",
       "16  2015-12-09 03:31:56.965000     Salinity   1.0317   1.023   1.027\n",
       "17  2015-12-09 03:31:56.965000  Temperature  76.8900  72.000  78.000\n",
       "18  2015-12-09 04:06:57.055000           pH   8.1800   8.100   8.400\n",
       "19  2015-12-09 04:06:57.055000     Salinity   1.0317   1.023   1.027"
      ]
     },
     "execution_count": 16,
     "metadata": {},
     "output_type": "execute_result"
    }
   ],
   "source": [
    "df2.head(20)"
   ]
  },
  {
   "cell_type": "code",
   "execution_count": 17,
   "metadata": {
    "collapsed": false
   },
   "outputs": [
    {
     "name": "stdout",
     "output_type": "stream",
     "text": [
      "<class 'pandas.core.frame.DataFrame'>\n",
      "RangeIndex: 72972 entries, 0 to 72971\n",
      "Data columns (total 5 columns):\n",
      "timestamp    72972 non-null object\n",
      "name         72972 non-null object\n",
      "value        72972 non-null float64\n",
      "min          72972 non-null float64\n",
      "max          72972 non-null float64\n",
      "dtypes: float64(3), object(2)\n",
      "memory usage: 2.8+ MB\n"
     ]
    }
   ],
   "source": [
    "df2.info()"
   ]
  },
  {
   "cell_type": "code",
   "execution_count": 18,
   "metadata": {
    "collapsed": true
   },
   "outputs": [],
   "source": [
    "df2 = df2[:10]"
   ]
  },
  {
   "cell_type": "code",
   "execution_count": 19,
   "metadata": {
    "collapsed": false
   },
   "outputs": [
    {
     "name": "stdout",
     "output_type": "stream",
     "text": [
      "<class 'pandas.core.frame.DataFrame'>\n",
      "RangeIndex: 10 entries, 0 to 9\n",
      "Data columns (total 5 columns):\n",
      "timestamp    10 non-null object\n",
      "name         10 non-null object\n",
      "value        10 non-null float64\n",
      "min          10 non-null float64\n",
      "max          10 non-null float64\n",
      "dtypes: float64(3), object(2)\n",
      "memory usage: 472.0+ bytes\n"
     ]
    }
   ],
   "source": [
    "df2.info()"
   ]
  },
  {
   "cell_type": "code",
   "execution_count": 20,
   "metadata": {
    "collapsed": false
   },
   "outputs": [
    {
     "data": {
      "text/html": [
       "<div>\n",
       "<table border=\"1\" class=\"dataframe\">\n",
       "  <thead>\n",
       "    <tr style=\"text-align: right;\">\n",
       "      <th></th>\n",
       "      <th>timestamp</th>\n",
       "      <th>name</th>\n",
       "      <th>value</th>\n",
       "      <th>min</th>\n",
       "      <th>max</th>\n",
       "    </tr>\n",
       "  </thead>\n",
       "  <tbody>\n",
       "    <tr>\n",
       "      <th>0</th>\n",
       "      <td>2015-12-09 05:01:57.118000</td>\n",
       "      <td>pH</td>\n",
       "      <td>8.1600</td>\n",
       "      <td>8.100</td>\n",
       "      <td>8.400</td>\n",
       "    </tr>\n",
       "    <tr>\n",
       "      <th>1</th>\n",
       "      <td>2015-12-09 05:01:57.118000</td>\n",
       "      <td>Salinity</td>\n",
       "      <td>1.0317</td>\n",
       "      <td>1.023</td>\n",
       "      <td>1.027</td>\n",
       "    </tr>\n",
       "    <tr>\n",
       "      <th>2</th>\n",
       "      <td>2015-12-09 05:01:57.118000</td>\n",
       "      <td>Temperature</td>\n",
       "      <td>76.7800</td>\n",
       "      <td>72.000</td>\n",
       "      <td>78.000</td>\n",
       "    </tr>\n",
       "    <tr>\n",
       "      <th>3</th>\n",
       "      <td>2015-12-09 06:06:57.323000</td>\n",
       "      <td>pH</td>\n",
       "      <td>8.1200</td>\n",
       "      <td>8.100</td>\n",
       "      <td>8.400</td>\n",
       "    </tr>\n",
       "    <tr>\n",
       "      <th>4</th>\n",
       "      <td>2015-12-09 06:06:57.323000</td>\n",
       "      <td>Salinity</td>\n",
       "      <td>1.0317</td>\n",
       "      <td>1.023</td>\n",
       "      <td>1.027</td>\n",
       "    </tr>\n",
       "    <tr>\n",
       "      <th>5</th>\n",
       "      <td>2015-12-09 06:06:57.323000</td>\n",
       "      <td>Temperature</td>\n",
       "      <td>76.6500</td>\n",
       "      <td>72.000</td>\n",
       "      <td>78.000</td>\n",
       "    </tr>\n",
       "    <tr>\n",
       "      <th>6</th>\n",
       "      <td>2015-12-09 02:46:56.856000</td>\n",
       "      <td>pH</td>\n",
       "      <td>8.1900</td>\n",
       "      <td>8.100</td>\n",
       "      <td>8.400</td>\n",
       "    </tr>\n",
       "    <tr>\n",
       "      <th>7</th>\n",
       "      <td>2015-12-09 02:46:56.856000</td>\n",
       "      <td>Salinity</td>\n",
       "      <td>1.0313</td>\n",
       "      <td>1.023</td>\n",
       "      <td>1.027</td>\n",
       "    </tr>\n",
       "    <tr>\n",
       "      <th>8</th>\n",
       "      <td>2015-12-09 02:46:56.856000</td>\n",
       "      <td>Temperature</td>\n",
       "      <td>76.6600</td>\n",
       "      <td>72.000</td>\n",
       "      <td>78.000</td>\n",
       "    </tr>\n",
       "    <tr>\n",
       "      <th>9</th>\n",
       "      <td>2015-12-09 02:56:56.811000</td>\n",
       "      <td>pH</td>\n",
       "      <td>8.1900</td>\n",
       "      <td>8.100</td>\n",
       "      <td>8.400</td>\n",
       "    </tr>\n",
       "  </tbody>\n",
       "</table>\n",
       "</div>"
      ],
      "text/plain": [
       "                    timestamp         name    value     min     max\n",
       "0  2015-12-09 05:01:57.118000           pH   8.1600   8.100   8.400\n",
       "1  2015-12-09 05:01:57.118000     Salinity   1.0317   1.023   1.027\n",
       "2  2015-12-09 05:01:57.118000  Temperature  76.7800  72.000  78.000\n",
       "3  2015-12-09 06:06:57.323000           pH   8.1200   8.100   8.400\n",
       "4  2015-12-09 06:06:57.323000     Salinity   1.0317   1.023   1.027\n",
       "5  2015-12-09 06:06:57.323000  Temperature  76.6500  72.000  78.000\n",
       "6  2015-12-09 02:46:56.856000           pH   8.1900   8.100   8.400\n",
       "7  2015-12-09 02:46:56.856000     Salinity   1.0313   1.023   1.027\n",
       "8  2015-12-09 02:46:56.856000  Temperature  76.6600  72.000  78.000\n",
       "9  2015-12-09 02:56:56.811000           pH   8.1900   8.100   8.400"
      ]
     },
     "execution_count": 20,
     "metadata": {},
     "output_type": "execute_result"
    }
   ],
   "source": [
    "df2"
   ]
  },
  {
   "cell_type": "code",
   "execution_count": 22,
   "metadata": {
    "collapsed": false
   },
   "outputs": [],
   "source": [
    "df2 = df2.pivot(index=\"timestamp\", columns=\"name\", values=\"value\")"
   ]
  },
  {
   "cell_type": "code",
   "execution_count": 23,
   "metadata": {
    "collapsed": false
   },
   "outputs": [
    {
     "data": {
      "text/html": [
       "<div>\n",
       "<table border=\"1\" class=\"dataframe\">\n",
       "  <thead>\n",
       "    <tr style=\"text-align: right;\">\n",
       "      <th>name</th>\n",
       "      <th>Salinity</th>\n",
       "      <th>Temperature</th>\n",
       "      <th>pH</th>\n",
       "    </tr>\n",
       "    <tr>\n",
       "      <th>timestamp</th>\n",
       "      <th></th>\n",
       "      <th></th>\n",
       "      <th></th>\n",
       "    </tr>\n",
       "  </thead>\n",
       "  <tbody>\n",
       "    <tr>\n",
       "      <th>2015-12-09 02:46:56.856000</th>\n",
       "      <td>1.0313</td>\n",
       "      <td>76.66</td>\n",
       "      <td>8.19</td>\n",
       "    </tr>\n",
       "    <tr>\n",
       "      <th>2015-12-09 02:56:56.811000</th>\n",
       "      <td>NaN</td>\n",
       "      <td>NaN</td>\n",
       "      <td>8.19</td>\n",
       "    </tr>\n",
       "    <tr>\n",
       "      <th>2015-12-09 05:01:57.118000</th>\n",
       "      <td>1.0317</td>\n",
       "      <td>76.78</td>\n",
       "      <td>8.16</td>\n",
       "    </tr>\n",
       "    <tr>\n",
       "      <th>2015-12-09 06:06:57.323000</th>\n",
       "      <td>1.0317</td>\n",
       "      <td>76.65</td>\n",
       "      <td>8.12</td>\n",
       "    </tr>\n",
       "  </tbody>\n",
       "</table>\n",
       "</div>"
      ],
      "text/plain": [
       "name                        Salinity  Temperature    pH\n",
       "timestamp                                              \n",
       "2015-12-09 02:46:56.856000    1.0313        76.66  8.19\n",
       "2015-12-09 02:56:56.811000       NaN          NaN  8.19\n",
       "2015-12-09 05:01:57.118000    1.0317        76.78  8.16\n",
       "2015-12-09 06:06:57.323000    1.0317        76.65  8.12"
      ]
     },
     "execution_count": 23,
     "metadata": {},
     "output_type": "execute_result"
    }
   ],
   "source": [
    "df2"
   ]
  },
  {
   "cell_type": "code",
   "execution_count": 28,
   "metadata": {
    "collapsed": false
   },
   "outputs": [
    {
     "name": "stdout",
     "output_type": "stream",
     "text": [
      "<class 'pandas.core.frame.DataFrame'>\n",
      "RangeIndex: 72972 entries, 0 to 72971\n",
      "Data columns (total 5 columns):\n",
      "timestamp    72972 non-null object\n",
      "name         72972 non-null object\n",
      "value        72972 non-null float64\n",
      "min          72972 non-null float64\n",
      "max          72972 non-null float64\n",
      "dtypes: float64(3), object(2)\n",
      "memory usage: 2.8+ MB\n"
     ]
    }
   ],
   "source": [
    "df2.info()"
   ]
  },
  {
   "cell_type": "code",
   "execution_count": 27,
   "metadata": {
    "collapsed": true
   },
   "outputs": [],
   "source": [
    "df2 = pd.read_csv('readings/26ecc3ee-b05a-46ee-86ad-9c5d0f39a8ae_individual_readings.csv')"
   ]
  },
  {
   "cell_type": "code",
   "execution_count": 29,
   "metadata": {
    "collapsed": true
   },
   "outputs": [],
   "source": [
    "df2 = df2.pivot(index=\"timestamp\", columns=\"name\", values=\"value\")"
   ]
  },
  {
   "cell_type": "code",
   "execution_count": 30,
   "metadata": {
    "collapsed": false
   },
   "outputs": [
    {
     "name": "stdout",
     "output_type": "stream",
     "text": [
      "<class 'pandas.core.frame.DataFrame'>\n",
      "Index: 24324 entries, 2015-12-09 02:36:56.647000 to 2016-04-23 02:37:12.748000\n",
      "Data columns (total 3 columns):\n",
      "Salinity       24324 non-null float64\n",
      "Temperature    24324 non-null float64\n",
      "pH             24324 non-null float64\n",
      "dtypes: float64(3)\n",
      "memory usage: 760.1+ KB\n"
     ]
    }
   ],
   "source": [
    "df2.info()"
   ]
  },
  {
   "cell_type": "code",
   "execution_count": 31,
   "metadata": {
    "collapsed": false
   },
   "outputs": [
    {
     "data": {
      "text/html": [
       "<div>\n",
       "<table border=\"1\" class=\"dataframe\">\n",
       "  <thead>\n",
       "    <tr style=\"text-align: right;\">\n",
       "      <th>name</th>\n",
       "      <th>Salinity</th>\n",
       "      <th>Temperature</th>\n",
       "      <th>pH</th>\n",
       "    </tr>\n",
       "    <tr>\n",
       "      <th>timestamp</th>\n",
       "      <th></th>\n",
       "      <th></th>\n",
       "      <th></th>\n",
       "    </tr>\n",
       "  </thead>\n",
       "  <tbody>\n",
       "    <tr>\n",
       "      <th>2015-12-09 02:36:56.647000</th>\n",
       "      <td>1.0308</td>\n",
       "      <td>76.55</td>\n",
       "      <td>8.19</td>\n",
       "    </tr>\n",
       "    <tr>\n",
       "      <th>2015-12-09 02:41:56.705000</th>\n",
       "      <td>1.0311</td>\n",
       "      <td>76.66</td>\n",
       "      <td>8.20</td>\n",
       "    </tr>\n",
       "    <tr>\n",
       "      <th>2015-12-09 02:46:56.856000</th>\n",
       "      <td>1.0313</td>\n",
       "      <td>76.66</td>\n",
       "      <td>8.19</td>\n",
       "    </tr>\n",
       "    <tr>\n",
       "      <th>2015-12-09 02:51:56.826000</th>\n",
       "      <td>1.0316</td>\n",
       "      <td>76.78</td>\n",
       "      <td>8.19</td>\n",
       "    </tr>\n",
       "    <tr>\n",
       "      <th>2015-12-09 02:56:56.811000</th>\n",
       "      <td>1.0317</td>\n",
       "      <td>76.78</td>\n",
       "      <td>8.19</td>\n",
       "    </tr>\n",
       "  </tbody>\n",
       "</table>\n",
       "</div>"
      ],
      "text/plain": [
       "name                        Salinity  Temperature    pH\n",
       "timestamp                                              \n",
       "2015-12-09 02:36:56.647000    1.0308        76.55  8.19\n",
       "2015-12-09 02:41:56.705000    1.0311        76.66  8.20\n",
       "2015-12-09 02:46:56.856000    1.0313        76.66  8.19\n",
       "2015-12-09 02:51:56.826000    1.0316        76.78  8.19\n",
       "2015-12-09 02:56:56.811000    1.0317        76.78  8.19"
      ]
     },
     "execution_count": 31,
     "metadata": {},
     "output_type": "execute_result"
    }
   ],
   "source": [
    "df2.head()"
   ]
  },
  {
   "cell_type": "code",
   "execution_count": 32,
   "metadata": {
    "collapsed": false
   },
   "outputs": [
    {
     "data": {
      "text/html": [
       "<div>\n",
       "<table border=\"1\" class=\"dataframe\">\n",
       "  <thead>\n",
       "    <tr style=\"text-align: right;\">\n",
       "      <th>name</th>\n",
       "      <th>Salinity</th>\n",
       "      <th>Temperature</th>\n",
       "      <th>pH</th>\n",
       "    </tr>\n",
       "  </thead>\n",
       "  <tbody>\n",
       "    <tr>\n",
       "      <th>count</th>\n",
       "      <td>24324.000000</td>\n",
       "      <td>24324.000000</td>\n",
       "      <td>24324.000000</td>\n",
       "    </tr>\n",
       "    <tr>\n",
       "      <th>mean</th>\n",
       "      <td>1.027705</td>\n",
       "      <td>76.318989</td>\n",
       "      <td>8.048218</td>\n",
       "    </tr>\n",
       "    <tr>\n",
       "      <th>std</th>\n",
       "      <td>0.003242</td>\n",
       "      <td>0.742483</td>\n",
       "      <td>0.117466</td>\n",
       "    </tr>\n",
       "    <tr>\n",
       "      <th>min</th>\n",
       "      <td>1.000300</td>\n",
       "      <td>71.510000</td>\n",
       "      <td>7.170000</td>\n",
       "    </tr>\n",
       "    <tr>\n",
       "      <th>25%</th>\n",
       "      <td>1.025000</td>\n",
       "      <td>75.990000</td>\n",
       "      <td>7.960000</td>\n",
       "    </tr>\n",
       "    <tr>\n",
       "      <th>50%</th>\n",
       "      <td>1.027800</td>\n",
       "      <td>76.390000</td>\n",
       "      <td>8.050000</td>\n",
       "    </tr>\n",
       "    <tr>\n",
       "      <th>75%</th>\n",
       "      <td>1.031200</td>\n",
       "      <td>76.750000</td>\n",
       "      <td>8.140000</td>\n",
       "    </tr>\n",
       "    <tr>\n",
       "      <th>max</th>\n",
       "      <td>1.031700</td>\n",
       "      <td>79.590000</td>\n",
       "      <td>8.320000</td>\n",
       "    </tr>\n",
       "  </tbody>\n",
       "</table>\n",
       "</div>"
      ],
      "text/plain": [
       "name       Salinity   Temperature            pH\n",
       "count  24324.000000  24324.000000  24324.000000\n",
       "mean       1.027705     76.318989      8.048218\n",
       "std        0.003242      0.742483      0.117466\n",
       "min        1.000300     71.510000      7.170000\n",
       "25%        1.025000     75.990000      7.960000\n",
       "50%        1.027800     76.390000      8.050000\n",
       "75%        1.031200     76.750000      8.140000\n",
       "max        1.031700     79.590000      8.320000"
      ]
     },
     "execution_count": 32,
     "metadata": {},
     "output_type": "execute_result"
    }
   ],
   "source": [
    "df2.describe()"
   ]
  },
  {
   "cell_type": "code",
   "execution_count": 33,
   "metadata": {
    "collapsed": true
   },
   "outputs": [],
   "source": [
    "df2.reset_index(inplace=True)"
   ]
  },
  {
   "cell_type": "code",
   "execution_count": 34,
   "metadata": {
    "collapsed": false
   },
   "outputs": [
    {
     "data": {
      "text/html": [
       "<div>\n",
       "<table border=\"1\" class=\"dataframe\">\n",
       "  <thead>\n",
       "    <tr style=\"text-align: right;\">\n",
       "      <th>name</th>\n",
       "      <th>timestamp</th>\n",
       "      <th>Salinity</th>\n",
       "      <th>Temperature</th>\n",
       "      <th>pH</th>\n",
       "    </tr>\n",
       "  </thead>\n",
       "  <tbody>\n",
       "    <tr>\n",
       "      <th>0</th>\n",
       "      <td>2015-12-09 02:36:56.647000</td>\n",
       "      <td>1.0308</td>\n",
       "      <td>76.55</td>\n",
       "      <td>8.19</td>\n",
       "    </tr>\n",
       "    <tr>\n",
       "      <th>1</th>\n",
       "      <td>2015-12-09 02:41:56.705000</td>\n",
       "      <td>1.0311</td>\n",
       "      <td>76.66</td>\n",
       "      <td>8.20</td>\n",
       "    </tr>\n",
       "    <tr>\n",
       "      <th>2</th>\n",
       "      <td>2015-12-09 02:46:56.856000</td>\n",
       "      <td>1.0313</td>\n",
       "      <td>76.66</td>\n",
       "      <td>8.19</td>\n",
       "    </tr>\n",
       "    <tr>\n",
       "      <th>3</th>\n",
       "      <td>2015-12-09 02:51:56.826000</td>\n",
       "      <td>1.0316</td>\n",
       "      <td>76.78</td>\n",
       "      <td>8.19</td>\n",
       "    </tr>\n",
       "    <tr>\n",
       "      <th>4</th>\n",
       "      <td>2015-12-09 02:56:56.811000</td>\n",
       "      <td>1.0317</td>\n",
       "      <td>76.78</td>\n",
       "      <td>8.19</td>\n",
       "    </tr>\n",
       "  </tbody>\n",
       "</table>\n",
       "</div>"
      ],
      "text/plain": [
       "name                   timestamp  Salinity  Temperature    pH\n",
       "0     2015-12-09 02:36:56.647000    1.0308        76.55  8.19\n",
       "1     2015-12-09 02:41:56.705000    1.0311        76.66  8.20\n",
       "2     2015-12-09 02:46:56.856000    1.0313        76.66  8.19\n",
       "3     2015-12-09 02:51:56.826000    1.0316        76.78  8.19\n",
       "4     2015-12-09 02:56:56.811000    1.0317        76.78  8.19"
      ]
     },
     "execution_count": 34,
     "metadata": {},
     "output_type": "execute_result"
    }
   ],
   "source": [
    "df2.head()"
   ]
  },
  {
   "cell_type": "code",
   "execution_count": 36,
   "metadata": {
    "collapsed": false
   },
   "outputs": [
    {
     "data": {
      "text/html": [
       "<div>\n",
       "<table border=\"1\" class=\"dataframe\">\n",
       "  <thead>\n",
       "    <tr style=\"text-align: right;\">\n",
       "      <th>name</th>\n",
       "      <th>Salinity</th>\n",
       "      <th>Temperature</th>\n",
       "      <th>pH</th>\n",
       "    </tr>\n",
       "  </thead>\n",
       "  <tbody>\n",
       "    <tr>\n",
       "      <th>count</th>\n",
       "      <td>24324.000000</td>\n",
       "      <td>24324.000000</td>\n",
       "      <td>24324.000000</td>\n",
       "    </tr>\n",
       "    <tr>\n",
       "      <th>mean</th>\n",
       "      <td>1.027705</td>\n",
       "      <td>76.318989</td>\n",
       "      <td>8.048218</td>\n",
       "    </tr>\n",
       "    <tr>\n",
       "      <th>std</th>\n",
       "      <td>0.003242</td>\n",
       "      <td>0.742483</td>\n",
       "      <td>0.117466</td>\n",
       "    </tr>\n",
       "    <tr>\n",
       "      <th>min</th>\n",
       "      <td>1.000300</td>\n",
       "      <td>71.510000</td>\n",
       "      <td>7.170000</td>\n",
       "    </tr>\n",
       "    <tr>\n",
       "      <th>25%</th>\n",
       "      <td>1.025000</td>\n",
       "      <td>75.990000</td>\n",
       "      <td>7.960000</td>\n",
       "    </tr>\n",
       "    <tr>\n",
       "      <th>50%</th>\n",
       "      <td>1.027800</td>\n",
       "      <td>76.390000</td>\n",
       "      <td>8.050000</td>\n",
       "    </tr>\n",
       "    <tr>\n",
       "      <th>75%</th>\n",
       "      <td>1.031200</td>\n",
       "      <td>76.750000</td>\n",
       "      <td>8.140000</td>\n",
       "    </tr>\n",
       "    <tr>\n",
       "      <th>max</th>\n",
       "      <td>1.031700</td>\n",
       "      <td>79.590000</td>\n",
       "      <td>8.320000</td>\n",
       "    </tr>\n",
       "  </tbody>\n",
       "</table>\n",
       "</div>"
      ],
      "text/plain": [
       "name       Salinity   Temperature            pH\n",
       "count  24324.000000  24324.000000  24324.000000\n",
       "mean       1.027705     76.318989      8.048218\n",
       "std        0.003242      0.742483      0.117466\n",
       "min        1.000300     71.510000      7.170000\n",
       "25%        1.025000     75.990000      7.960000\n",
       "50%        1.027800     76.390000      8.050000\n",
       "75%        1.031200     76.750000      8.140000\n",
       "max        1.031700     79.590000      8.320000"
      ]
     },
     "execution_count": 36,
     "metadata": {},
     "output_type": "execute_result"
    }
   ],
   "source": [
    "df2.describe()"
   ]
  },
  {
   "cell_type": "code",
   "execution_count": 37,
   "metadata": {
    "collapsed": false
   },
   "outputs": [
    {
     "name": "stdout",
     "output_type": "stream",
     "text": [
      "<class 'pandas.core.frame.DataFrame'>\n",
      "RangeIndex: 24324 entries, 0 to 24323\n",
      "Data columns (total 4 columns):\n",
      "timestamp      24324 non-null object\n",
      "Salinity       24324 non-null float64\n",
      "Temperature    24324 non-null float64\n",
      "pH             24324 non-null float64\n",
      "dtypes: float64(3), object(1)\n",
      "memory usage: 760.2+ KB\n"
     ]
    }
   ],
   "source": [
    "df2.info()"
   ]
  },
  {
   "cell_type": "code",
   "execution_count": 39,
   "metadata": {
    "collapsed": false
   },
   "outputs": [
    {
     "data": {
      "text/plain": [
       "name\n",
       "timestamp      2015-12-09 02:36:56.647000\n",
       "Salinity                           1.0308\n",
       "Temperature                         76.55\n",
       "pH                                   8.19\n",
       "Name: 0, dtype: object"
      ]
     },
     "execution_count": 39,
     "metadata": {},
     "output_type": "execute_result"
    }
   ],
   "source": [
    "df2.iloc[0]"
   ]
  },
  {
   "cell_type": "code",
   "execution_count": 40,
   "metadata": {
    "collapsed": true
   },
   "outputs": [],
   "source": [
    "dupes_by_time = df2[df2.duplicated('timestamp')]"
   ]
  },
  {
   "cell_type": "code",
   "execution_count": 41,
   "metadata": {
    "collapsed": false
   },
   "outputs": [
    {
     "data": {
      "text/plain": [
       "name\n",
       "timestamp      0\n",
       "Salinity       0\n",
       "Temperature    0\n",
       "pH             0\n",
       "dtype: int64"
      ]
     },
     "execution_count": 41,
     "metadata": {},
     "output_type": "execute_result"
    }
   ],
   "source": [
    "dupes_by_time.count()"
   ]
  },
  {
   "cell_type": "code",
   "execution_count": 43,
   "metadata": {
    "collapsed": false
   },
   "outputs": [
    {
     "data": {
      "text/plain": [
       "0       2015-12-09 02:36:56.647\n",
       "1       2015-12-09 02:41:56.705\n",
       "2       2015-12-09 02:46:56.856\n",
       "3       2015-12-09 02:51:56.826\n",
       "4       2015-12-09 02:56:56.811\n",
       "5       2015-12-09 03:01:56.749\n",
       "6       2015-12-09 03:06:56.733\n",
       "7       2015-12-09 03:11:56.896\n",
       "8       2015-12-09 03:16:56.953\n",
       "9       2015-12-09 03:21:56.870\n",
       "10      2015-12-09 03:26:57.033\n",
       "11      2015-12-09 03:31:56.965\n",
       "12      2015-12-09 03:36:56.953\n",
       "13      2015-12-09 03:41:58.443\n",
       "14      2015-12-09 03:46:56.854\n",
       "15      2015-12-09 03:51:56.920\n",
       "16      2015-12-09 03:56:56.958\n",
       "17      2015-12-09 04:01:56.896\n",
       "18      2015-12-09 04:06:57.055\n",
       "19      2015-12-09 04:11:57.250\n",
       "20      2015-12-09 04:16:56.938\n",
       "21      2015-12-09 04:21:56.969\n",
       "22      2015-12-09 04:26:56.970\n",
       "23      2015-12-09 04:31:57.033\n",
       "24      2015-12-09 04:36:57.222\n",
       "25      2015-12-09 04:41:57.047\n",
       "26      2015-12-09 04:46:57.037\n",
       "27      2015-12-09 04:51:57.064\n",
       "28      2015-12-09 04:56:57.336\n",
       "29      2015-12-09 05:01:57.118\n",
       "                  ...          \n",
       "24294   2016-04-23 00:11:43.204\n",
       "24295   2016-04-23 00:16:44.254\n",
       "24296   2016-04-23 00:21:45.213\n",
       "24297   2016-04-23 00:26:46.268\n",
       "24298   2016-04-23 00:31:47.334\n",
       "24299   2016-04-23 00:36:48.267\n",
       "24300   2016-04-23 00:41:49.326\n",
       "24301   2016-04-23 00:46:50.326\n",
       "24302   2016-04-23 00:51:51.415\n",
       "24303   2016-04-23 00:56:52.377\n",
       "24304   2016-04-23 01:01:53.450\n",
       "24305   2016-04-23 01:06:54.400\n",
       "24306   2016-04-23 01:11:55.410\n",
       "24307   2016-04-23 01:16:56.446\n",
       "24308   2016-04-23 01:21:57.445\n",
       "24309   2016-04-23 01:26:58.416\n",
       "24310   2016-04-23 01:31:59.583\n",
       "24311   2016-04-23 01:37:00.479\n",
       "24312   2016-04-23 01:42:01.526\n",
       "24313   2016-04-23 01:47:02.484\n",
       "24314   2016-04-23 01:52:03.513\n",
       "24315   2016-04-23 01:57:04.545\n",
       "24316   2016-04-23 02:02:05.563\n",
       "24317   2016-04-23 02:07:06.705\n",
       "24318   2016-04-23 02:12:07.642\n",
       "24319   2016-04-23 02:17:08.698\n",
       "24320   2016-04-23 02:22:09.604\n",
       "24321   2016-04-23 02:27:10.594\n",
       "24322   2016-04-23 02:32:11.730\n",
       "24323   2016-04-23 02:37:12.748\n",
       "Name: timestamp, dtype: datetime64[ns]"
      ]
     },
     "execution_count": 43,
     "metadata": {},
     "output_type": "execute_result"
    }
   ],
   "source": [
    "pd.to_datetime(df2.timestamp, errors='raise')"
   ]
  },
  {
   "cell_type": "code",
   "execution_count": 44,
   "metadata": {
    "collapsed": false
   },
   "outputs": [
    {
     "data": {
      "text/html": [
       "<div>\n",
       "<table border=\"1\" class=\"dataframe\">\n",
       "  <thead>\n",
       "    <tr style=\"text-align: right;\">\n",
       "      <th>name</th>\n",
       "      <th>timestamp</th>\n",
       "      <th>Salinity</th>\n",
       "      <th>Temperature</th>\n",
       "      <th>pH</th>\n",
       "    </tr>\n",
       "  </thead>\n",
       "  <tbody>\n",
       "    <tr>\n",
       "      <th>0</th>\n",
       "      <td>2015-12-09 02:36:56.647000</td>\n",
       "      <td>1.0308</td>\n",
       "      <td>76.55</td>\n",
       "      <td>8.19</td>\n",
       "    </tr>\n",
       "    <tr>\n",
       "      <th>1</th>\n",
       "      <td>2015-12-09 02:41:56.705000</td>\n",
       "      <td>1.0311</td>\n",
       "      <td>76.66</td>\n",
       "      <td>8.20</td>\n",
       "    </tr>\n",
       "    <tr>\n",
       "      <th>2</th>\n",
       "      <td>2015-12-09 02:46:56.856000</td>\n",
       "      <td>1.0313</td>\n",
       "      <td>76.66</td>\n",
       "      <td>8.19</td>\n",
       "    </tr>\n",
       "    <tr>\n",
       "      <th>3</th>\n",
       "      <td>2015-12-09 02:51:56.826000</td>\n",
       "      <td>1.0316</td>\n",
       "      <td>76.78</td>\n",
       "      <td>8.19</td>\n",
       "    </tr>\n",
       "    <tr>\n",
       "      <th>4</th>\n",
       "      <td>2015-12-09 02:56:56.811000</td>\n",
       "      <td>1.0317</td>\n",
       "      <td>76.78</td>\n",
       "      <td>8.19</td>\n",
       "    </tr>\n",
       "    <tr>\n",
       "      <th>5</th>\n",
       "      <td>2015-12-09 03:01:56.749000</td>\n",
       "      <td>1.0317</td>\n",
       "      <td>76.81</td>\n",
       "      <td>8.19</td>\n",
       "    </tr>\n",
       "    <tr>\n",
       "      <th>6</th>\n",
       "      <td>2015-12-09 03:06:56.733000</td>\n",
       "      <td>1.0317</td>\n",
       "      <td>76.88</td>\n",
       "      <td>8.19</td>\n",
       "    </tr>\n",
       "    <tr>\n",
       "      <th>7</th>\n",
       "      <td>2015-12-09 03:11:56.896000</td>\n",
       "      <td>1.0317</td>\n",
       "      <td>76.85</td>\n",
       "      <td>8.19</td>\n",
       "    </tr>\n",
       "    <tr>\n",
       "      <th>8</th>\n",
       "      <td>2015-12-09 03:16:56.953000</td>\n",
       "      <td>1.0317</td>\n",
       "      <td>76.88</td>\n",
       "      <td>8.19</td>\n",
       "    </tr>\n",
       "    <tr>\n",
       "      <th>9</th>\n",
       "      <td>2015-12-09 03:21:56.870000</td>\n",
       "      <td>1.0317</td>\n",
       "      <td>76.88</td>\n",
       "      <td>8.19</td>\n",
       "    </tr>\n",
       "    <tr>\n",
       "      <th>10</th>\n",
       "      <td>2015-12-09 03:26:57.033000</td>\n",
       "      <td>1.0317</td>\n",
       "      <td>76.89</td>\n",
       "      <td>8.19</td>\n",
       "    </tr>\n",
       "    <tr>\n",
       "      <th>11</th>\n",
       "      <td>2015-12-09 03:31:56.965000</td>\n",
       "      <td>1.0317</td>\n",
       "      <td>76.89</td>\n",
       "      <td>8.19</td>\n",
       "    </tr>\n",
       "    <tr>\n",
       "      <th>12</th>\n",
       "      <td>2015-12-09 03:36:56.953000</td>\n",
       "      <td>1.0317</td>\n",
       "      <td>76.89</td>\n",
       "      <td>8.19</td>\n",
       "    </tr>\n",
       "    <tr>\n",
       "      <th>13</th>\n",
       "      <td>2015-12-09 03:41:58.443000</td>\n",
       "      <td>1.0317</td>\n",
       "      <td>76.89</td>\n",
       "      <td>8.19</td>\n",
       "    </tr>\n",
       "    <tr>\n",
       "      <th>14</th>\n",
       "      <td>2015-12-09 03:46:56.854000</td>\n",
       "      <td>1.0317</td>\n",
       "      <td>76.89</td>\n",
       "      <td>8.19</td>\n",
       "    </tr>\n",
       "    <tr>\n",
       "      <th>15</th>\n",
       "      <td>2015-12-09 03:51:56.920000</td>\n",
       "      <td>1.0317</td>\n",
       "      <td>76.94</td>\n",
       "      <td>8.19</td>\n",
       "    </tr>\n",
       "    <tr>\n",
       "      <th>16</th>\n",
       "      <td>2015-12-09 03:56:56.958000</td>\n",
       "      <td>1.0317</td>\n",
       "      <td>76.89</td>\n",
       "      <td>8.18</td>\n",
       "    </tr>\n",
       "    <tr>\n",
       "      <th>17</th>\n",
       "      <td>2015-12-09 04:01:56.896000</td>\n",
       "      <td>1.0317</td>\n",
       "      <td>76.88</td>\n",
       "      <td>8.18</td>\n",
       "    </tr>\n",
       "    <tr>\n",
       "      <th>18</th>\n",
       "      <td>2015-12-09 04:06:57.055000</td>\n",
       "      <td>1.0317</td>\n",
       "      <td>76.89</td>\n",
       "      <td>8.18</td>\n",
       "    </tr>\n",
       "    <tr>\n",
       "      <th>19</th>\n",
       "      <td>2015-12-09 04:11:57.250000</td>\n",
       "      <td>1.0317</td>\n",
       "      <td>76.88</td>\n",
       "      <td>8.18</td>\n",
       "    </tr>\n",
       "    <tr>\n",
       "      <th>20</th>\n",
       "      <td>2015-12-09 04:16:56.938000</td>\n",
       "      <td>1.0317</td>\n",
       "      <td>76.84</td>\n",
       "      <td>8.18</td>\n",
       "    </tr>\n",
       "    <tr>\n",
       "      <th>21</th>\n",
       "      <td>2015-12-09 04:21:56.969000</td>\n",
       "      <td>1.0317</td>\n",
       "      <td>76.84</td>\n",
       "      <td>8.17</td>\n",
       "    </tr>\n",
       "    <tr>\n",
       "      <th>22</th>\n",
       "      <td>2015-12-09 04:26:56.970000</td>\n",
       "      <td>1.0317</td>\n",
       "      <td>76.84</td>\n",
       "      <td>8.17</td>\n",
       "    </tr>\n",
       "    <tr>\n",
       "      <th>23</th>\n",
       "      <td>2015-12-09 04:31:57.033000</td>\n",
       "      <td>1.0317</td>\n",
       "      <td>76.80</td>\n",
       "      <td>8.17</td>\n",
       "    </tr>\n",
       "    <tr>\n",
       "      <th>24</th>\n",
       "      <td>2015-12-09 04:36:57.222000</td>\n",
       "      <td>1.0317</td>\n",
       "      <td>76.87</td>\n",
       "      <td>8.16</td>\n",
       "    </tr>\n",
       "    <tr>\n",
       "      <th>25</th>\n",
       "      <td>2015-12-09 04:41:57.047000</td>\n",
       "      <td>1.0317</td>\n",
       "      <td>76.81</td>\n",
       "      <td>8.16</td>\n",
       "    </tr>\n",
       "    <tr>\n",
       "      <th>26</th>\n",
       "      <td>2015-12-09 04:46:57.037000</td>\n",
       "      <td>1.0317</td>\n",
       "      <td>76.79</td>\n",
       "      <td>8.16</td>\n",
       "    </tr>\n",
       "    <tr>\n",
       "      <th>27</th>\n",
       "      <td>2015-12-09 04:51:57.064000</td>\n",
       "      <td>1.0317</td>\n",
       "      <td>76.82</td>\n",
       "      <td>8.16</td>\n",
       "    </tr>\n",
       "    <tr>\n",
       "      <th>28</th>\n",
       "      <td>2015-12-09 04:56:57.336000</td>\n",
       "      <td>1.0317</td>\n",
       "      <td>76.78</td>\n",
       "      <td>8.16</td>\n",
       "    </tr>\n",
       "    <tr>\n",
       "      <th>29</th>\n",
       "      <td>2015-12-09 05:01:57.118000</td>\n",
       "      <td>1.0317</td>\n",
       "      <td>76.78</td>\n",
       "      <td>8.16</td>\n",
       "    </tr>\n",
       "    <tr>\n",
       "      <th>...</th>\n",
       "      <td>...</td>\n",
       "      <td>...</td>\n",
       "      <td>...</td>\n",
       "      <td>...</td>\n",
       "    </tr>\n",
       "    <tr>\n",
       "      <th>24294</th>\n",
       "      <td>2016-04-23 00:11:43.204000</td>\n",
       "      <td>1.0234</td>\n",
       "      <td>76.10</td>\n",
       "      <td>8.16</td>\n",
       "    </tr>\n",
       "    <tr>\n",
       "      <th>24295</th>\n",
       "      <td>2016-04-23 00:16:44.254000</td>\n",
       "      <td>1.0234</td>\n",
       "      <td>76.10</td>\n",
       "      <td>8.16</td>\n",
       "    </tr>\n",
       "    <tr>\n",
       "      <th>24296</th>\n",
       "      <td>2016-04-23 00:21:45.213000</td>\n",
       "      <td>1.0234</td>\n",
       "      <td>76.10</td>\n",
       "      <td>8.16</td>\n",
       "    </tr>\n",
       "    <tr>\n",
       "      <th>24297</th>\n",
       "      <td>2016-04-23 00:26:46.268000</td>\n",
       "      <td>1.0234</td>\n",
       "      <td>76.10</td>\n",
       "      <td>8.16</td>\n",
       "    </tr>\n",
       "    <tr>\n",
       "      <th>24298</th>\n",
       "      <td>2016-04-23 00:31:47.334000</td>\n",
       "      <td>1.0234</td>\n",
       "      <td>76.10</td>\n",
       "      <td>8.16</td>\n",
       "    </tr>\n",
       "    <tr>\n",
       "      <th>24299</th>\n",
       "      <td>2016-04-23 00:36:48.267000</td>\n",
       "      <td>1.0234</td>\n",
       "      <td>76.10</td>\n",
       "      <td>8.16</td>\n",
       "    </tr>\n",
       "    <tr>\n",
       "      <th>24300</th>\n",
       "      <td>2016-04-23 00:41:49.326000</td>\n",
       "      <td>1.0234</td>\n",
       "      <td>76.10</td>\n",
       "      <td>8.16</td>\n",
       "    </tr>\n",
       "    <tr>\n",
       "      <th>24301</th>\n",
       "      <td>2016-04-23 00:46:50.326000</td>\n",
       "      <td>1.0234</td>\n",
       "      <td>76.10</td>\n",
       "      <td>8.16</td>\n",
       "    </tr>\n",
       "    <tr>\n",
       "      <th>24302</th>\n",
       "      <td>2016-04-23 00:51:51.415000</td>\n",
       "      <td>1.0234</td>\n",
       "      <td>76.10</td>\n",
       "      <td>8.16</td>\n",
       "    </tr>\n",
       "    <tr>\n",
       "      <th>24303</th>\n",
       "      <td>2016-04-23 00:56:52.377000</td>\n",
       "      <td>1.0234</td>\n",
       "      <td>76.10</td>\n",
       "      <td>8.16</td>\n",
       "    </tr>\n",
       "    <tr>\n",
       "      <th>24304</th>\n",
       "      <td>2016-04-23 01:01:53.450000</td>\n",
       "      <td>1.0235</td>\n",
       "      <td>76.09</td>\n",
       "      <td>8.16</td>\n",
       "    </tr>\n",
       "    <tr>\n",
       "      <th>24305</th>\n",
       "      <td>2016-04-23 01:06:54.400000</td>\n",
       "      <td>1.0235</td>\n",
       "      <td>76.10</td>\n",
       "      <td>8.16</td>\n",
       "    </tr>\n",
       "    <tr>\n",
       "      <th>24306</th>\n",
       "      <td>2016-04-23 01:11:55.410000</td>\n",
       "      <td>1.0235</td>\n",
       "      <td>76.07</td>\n",
       "      <td>8.16</td>\n",
       "    </tr>\n",
       "    <tr>\n",
       "      <th>24307</th>\n",
       "      <td>2016-04-23 01:16:56.446000</td>\n",
       "      <td>1.0235</td>\n",
       "      <td>76.06</td>\n",
       "      <td>8.16</td>\n",
       "    </tr>\n",
       "    <tr>\n",
       "      <th>24308</th>\n",
       "      <td>2016-04-23 01:21:57.445000</td>\n",
       "      <td>1.0235</td>\n",
       "      <td>76.06</td>\n",
       "      <td>8.16</td>\n",
       "    </tr>\n",
       "    <tr>\n",
       "      <th>24309</th>\n",
       "      <td>2016-04-23 01:26:58.416000</td>\n",
       "      <td>1.0235</td>\n",
       "      <td>76.07</td>\n",
       "      <td>8.16</td>\n",
       "    </tr>\n",
       "    <tr>\n",
       "      <th>24310</th>\n",
       "      <td>2016-04-23 01:31:59.583000</td>\n",
       "      <td>1.0235</td>\n",
       "      <td>76.02</td>\n",
       "      <td>8.15</td>\n",
       "    </tr>\n",
       "    <tr>\n",
       "      <th>24311</th>\n",
       "      <td>2016-04-23 01:37:00.479000</td>\n",
       "      <td>1.0235</td>\n",
       "      <td>76.02</td>\n",
       "      <td>8.15</td>\n",
       "    </tr>\n",
       "    <tr>\n",
       "      <th>24312</th>\n",
       "      <td>2016-04-23 01:42:01.526000</td>\n",
       "      <td>1.0235</td>\n",
       "      <td>75.99</td>\n",
       "      <td>8.15</td>\n",
       "    </tr>\n",
       "    <tr>\n",
       "      <th>24313</th>\n",
       "      <td>2016-04-23 01:47:02.484000</td>\n",
       "      <td>1.0235</td>\n",
       "      <td>76.00</td>\n",
       "      <td>8.14</td>\n",
       "    </tr>\n",
       "    <tr>\n",
       "      <th>24314</th>\n",
       "      <td>2016-04-23 01:52:03.513000</td>\n",
       "      <td>1.0235</td>\n",
       "      <td>75.99</td>\n",
       "      <td>8.14</td>\n",
       "    </tr>\n",
       "    <tr>\n",
       "      <th>24315</th>\n",
       "      <td>2016-04-23 01:57:04.545000</td>\n",
       "      <td>1.0235</td>\n",
       "      <td>75.99</td>\n",
       "      <td>8.13</td>\n",
       "    </tr>\n",
       "    <tr>\n",
       "      <th>24316</th>\n",
       "      <td>2016-04-23 02:02:05.563000</td>\n",
       "      <td>1.0235</td>\n",
       "      <td>75.99</td>\n",
       "      <td>8.13</td>\n",
       "    </tr>\n",
       "    <tr>\n",
       "      <th>24317</th>\n",
       "      <td>2016-04-23 02:07:06.705000</td>\n",
       "      <td>1.0235</td>\n",
       "      <td>75.97</td>\n",
       "      <td>8.13</td>\n",
       "    </tr>\n",
       "    <tr>\n",
       "      <th>24318</th>\n",
       "      <td>2016-04-23 02:12:07.642000</td>\n",
       "      <td>1.0235</td>\n",
       "      <td>75.99</td>\n",
       "      <td>8.12</td>\n",
       "    </tr>\n",
       "    <tr>\n",
       "      <th>24319</th>\n",
       "      <td>2016-04-23 02:17:08.698000</td>\n",
       "      <td>1.0235</td>\n",
       "      <td>75.97</td>\n",
       "      <td>8.12</td>\n",
       "    </tr>\n",
       "    <tr>\n",
       "      <th>24320</th>\n",
       "      <td>2016-04-23 02:22:09.604000</td>\n",
       "      <td>1.0235</td>\n",
       "      <td>75.98</td>\n",
       "      <td>8.11</td>\n",
       "    </tr>\n",
       "    <tr>\n",
       "      <th>24321</th>\n",
       "      <td>2016-04-23 02:27:10.594000</td>\n",
       "      <td>1.0235</td>\n",
       "      <td>75.90</td>\n",
       "      <td>8.11</td>\n",
       "    </tr>\n",
       "    <tr>\n",
       "      <th>24322</th>\n",
       "      <td>2016-04-23 02:32:11.730000</td>\n",
       "      <td>1.0234</td>\n",
       "      <td>75.90</td>\n",
       "      <td>8.11</td>\n",
       "    </tr>\n",
       "    <tr>\n",
       "      <th>24323</th>\n",
       "      <td>2016-04-23 02:37:12.748000</td>\n",
       "      <td>1.0234</td>\n",
       "      <td>75.89</td>\n",
       "      <td>8.10</td>\n",
       "    </tr>\n",
       "  </tbody>\n",
       "</table>\n",
       "<p>24324 rows × 4 columns</p>\n",
       "</div>"
      ],
      "text/plain": [
       "name                    timestamp  Salinity  Temperature    pH\n",
       "0      2015-12-09 02:36:56.647000    1.0308        76.55  8.19\n",
       "1      2015-12-09 02:41:56.705000    1.0311        76.66  8.20\n",
       "2      2015-12-09 02:46:56.856000    1.0313        76.66  8.19\n",
       "3      2015-12-09 02:51:56.826000    1.0316        76.78  8.19\n",
       "4      2015-12-09 02:56:56.811000    1.0317        76.78  8.19\n",
       "5      2015-12-09 03:01:56.749000    1.0317        76.81  8.19\n",
       "6      2015-12-09 03:06:56.733000    1.0317        76.88  8.19\n",
       "7      2015-12-09 03:11:56.896000    1.0317        76.85  8.19\n",
       "8      2015-12-09 03:16:56.953000    1.0317        76.88  8.19\n",
       "9      2015-12-09 03:21:56.870000    1.0317        76.88  8.19\n",
       "10     2015-12-09 03:26:57.033000    1.0317        76.89  8.19\n",
       "11     2015-12-09 03:31:56.965000    1.0317        76.89  8.19\n",
       "12     2015-12-09 03:36:56.953000    1.0317        76.89  8.19\n",
       "13     2015-12-09 03:41:58.443000    1.0317        76.89  8.19\n",
       "14     2015-12-09 03:46:56.854000    1.0317        76.89  8.19\n",
       "15     2015-12-09 03:51:56.920000    1.0317        76.94  8.19\n",
       "16     2015-12-09 03:56:56.958000    1.0317        76.89  8.18\n",
       "17     2015-12-09 04:01:56.896000    1.0317        76.88  8.18\n",
       "18     2015-12-09 04:06:57.055000    1.0317        76.89  8.18\n",
       "19     2015-12-09 04:11:57.250000    1.0317        76.88  8.18\n",
       "20     2015-12-09 04:16:56.938000    1.0317        76.84  8.18\n",
       "21     2015-12-09 04:21:56.969000    1.0317        76.84  8.17\n",
       "22     2015-12-09 04:26:56.970000    1.0317        76.84  8.17\n",
       "23     2015-12-09 04:31:57.033000    1.0317        76.80  8.17\n",
       "24     2015-12-09 04:36:57.222000    1.0317        76.87  8.16\n",
       "25     2015-12-09 04:41:57.047000    1.0317        76.81  8.16\n",
       "26     2015-12-09 04:46:57.037000    1.0317        76.79  8.16\n",
       "27     2015-12-09 04:51:57.064000    1.0317        76.82  8.16\n",
       "28     2015-12-09 04:56:57.336000    1.0317        76.78  8.16\n",
       "29     2015-12-09 05:01:57.118000    1.0317        76.78  8.16\n",
       "...                           ...       ...          ...   ...\n",
       "24294  2016-04-23 00:11:43.204000    1.0234        76.10  8.16\n",
       "24295  2016-04-23 00:16:44.254000    1.0234        76.10  8.16\n",
       "24296  2016-04-23 00:21:45.213000    1.0234        76.10  8.16\n",
       "24297  2016-04-23 00:26:46.268000    1.0234        76.10  8.16\n",
       "24298  2016-04-23 00:31:47.334000    1.0234        76.10  8.16\n",
       "24299  2016-04-23 00:36:48.267000    1.0234        76.10  8.16\n",
       "24300  2016-04-23 00:41:49.326000    1.0234        76.10  8.16\n",
       "24301  2016-04-23 00:46:50.326000    1.0234        76.10  8.16\n",
       "24302  2016-04-23 00:51:51.415000    1.0234        76.10  8.16\n",
       "24303  2016-04-23 00:56:52.377000    1.0234        76.10  8.16\n",
       "24304  2016-04-23 01:01:53.450000    1.0235        76.09  8.16\n",
       "24305  2016-04-23 01:06:54.400000    1.0235        76.10  8.16\n",
       "24306  2016-04-23 01:11:55.410000    1.0235        76.07  8.16\n",
       "24307  2016-04-23 01:16:56.446000    1.0235        76.06  8.16\n",
       "24308  2016-04-23 01:21:57.445000    1.0235        76.06  8.16\n",
       "24309  2016-04-23 01:26:58.416000    1.0235        76.07  8.16\n",
       "24310  2016-04-23 01:31:59.583000    1.0235        76.02  8.15\n",
       "24311  2016-04-23 01:37:00.479000    1.0235        76.02  8.15\n",
       "24312  2016-04-23 01:42:01.526000    1.0235        75.99  8.15\n",
       "24313  2016-04-23 01:47:02.484000    1.0235        76.00  8.14\n",
       "24314  2016-04-23 01:52:03.513000    1.0235        75.99  8.14\n",
       "24315  2016-04-23 01:57:04.545000    1.0235        75.99  8.13\n",
       "24316  2016-04-23 02:02:05.563000    1.0235        75.99  8.13\n",
       "24317  2016-04-23 02:07:06.705000    1.0235        75.97  8.13\n",
       "24318  2016-04-23 02:12:07.642000    1.0235        75.99  8.12\n",
       "24319  2016-04-23 02:17:08.698000    1.0235        75.97  8.12\n",
       "24320  2016-04-23 02:22:09.604000    1.0235        75.98  8.11\n",
       "24321  2016-04-23 02:27:10.594000    1.0235        75.90  8.11\n",
       "24322  2016-04-23 02:32:11.730000    1.0234        75.90  8.11\n",
       "24323  2016-04-23 02:37:12.748000    1.0234        75.89  8.10\n",
       "\n",
       "[24324 rows x 4 columns]"
      ]
     },
     "execution_count": 44,
     "metadata": {},
     "output_type": "execute_result"
    }
   ],
   "source": [
    "df2.sort_values('timestamp')"
   ]
  },
  {
   "cell_type": "code",
   "execution_count": 45,
   "metadata": {
    "collapsed": false
   },
   "outputs": [
    {
     "data": {
      "text/plain": [
       "array([2015, 2015, 2015, ..., 2016, 2016, 2016], dtype=int32)"
      ]
     },
     "execution_count": 45,
     "metadata": {},
     "output_type": "execute_result"
    }
   ],
   "source": [
    "pd.DatetimeIndex(df2.timestamp).year"
   ]
  },
  {
   "cell_type": "code",
   "execution_count": 46,
   "metadata": {
    "collapsed": false
   },
   "outputs": [
    {
     "data": {
      "text/html": [
       "<div>\n",
       "<table border=\"1\" class=\"dataframe\">\n",
       "  <thead>\n",
       "    <tr style=\"text-align: right;\">\n",
       "      <th>name</th>\n",
       "      <th>timestamp</th>\n",
       "      <th>Salinity</th>\n",
       "      <th>Temperature</th>\n",
       "      <th>pH</th>\n",
       "    </tr>\n",
       "  </thead>\n",
       "  <tbody>\n",
       "    <tr>\n",
       "      <th>0</th>\n",
       "      <td>2015-12-09 02:36:56.647000</td>\n",
       "      <td>1.0308</td>\n",
       "      <td>76.55</td>\n",
       "      <td>8.19</td>\n",
       "    </tr>\n",
       "    <tr>\n",
       "      <th>1</th>\n",
       "      <td>2015-12-09 02:41:56.705000</td>\n",
       "      <td>1.0311</td>\n",
       "      <td>76.66</td>\n",
       "      <td>8.20</td>\n",
       "    </tr>\n",
       "    <tr>\n",
       "      <th>2</th>\n",
       "      <td>2015-12-09 02:46:56.856000</td>\n",
       "      <td>1.0313</td>\n",
       "      <td>76.66</td>\n",
       "      <td>8.19</td>\n",
       "    </tr>\n",
       "    <tr>\n",
       "      <th>3</th>\n",
       "      <td>2015-12-09 02:51:56.826000</td>\n",
       "      <td>1.0316</td>\n",
       "      <td>76.78</td>\n",
       "      <td>8.19</td>\n",
       "    </tr>\n",
       "    <tr>\n",
       "      <th>4</th>\n",
       "      <td>2015-12-09 02:56:56.811000</td>\n",
       "      <td>1.0317</td>\n",
       "      <td>76.78</td>\n",
       "      <td>8.19</td>\n",
       "    </tr>\n",
       "  </tbody>\n",
       "</table>\n",
       "</div>"
      ],
      "text/plain": [
       "name                   timestamp  Salinity  Temperature    pH\n",
       "0     2015-12-09 02:36:56.647000    1.0308        76.55  8.19\n",
       "1     2015-12-09 02:41:56.705000    1.0311        76.66  8.20\n",
       "2     2015-12-09 02:46:56.856000    1.0313        76.66  8.19\n",
       "3     2015-12-09 02:51:56.826000    1.0316        76.78  8.19\n",
       "4     2015-12-09 02:56:56.811000    1.0317        76.78  8.19"
      ]
     },
     "execution_count": 46,
     "metadata": {},
     "output_type": "execute_result"
    }
   ],
   "source": [
    "df2.head()"
   ]
  },
  {
   "cell_type": "code",
   "execution_count": 47,
   "metadata": {
    "collapsed": true
   },
   "outputs": [],
   "source": [
    "df2.to_json('data/fishbit_data_cleaned.json', orient='records', date_format='iso')"
   ]
  },
  {
   "cell_type": "code",
   "execution_count": null,
   "metadata": {
    "collapsed": true
   },
   "outputs": [],
   "source": []
  }
 ],
 "metadata": {
  "anaconda-cloud": {},
  "kernelspec": {
   "display_name": "Python [Root]",
   "language": "python",
   "name": "Python [Root]"
  },
  "language_info": {
   "codemirror_mode": {
    "name": "ipython",
    "version": 2
   },
   "file_extension": ".py",
   "mimetype": "text/x-python",
   "name": "python",
   "nbconvert_exporter": "python",
   "pygments_lexer": "ipython2",
   "version": "2.7.12"
  }
 },
 "nbformat": 4,
 "nbformat_minor": 0
}
